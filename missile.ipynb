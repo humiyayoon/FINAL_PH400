{
 "cells": [
  {
   "cell_type": "code",
   "execution_count": null,
   "id": "f6e7ef75",
   "metadata": {},
   "outputs": [],
   "source": [
    "import numpy as np\n",
    "import matplotlib.pyplot as plt\n",
    "from matplotlib.animation import FuncAnimation\n",
    "\n",
    "# 시뮬레이션 파라미터\n",
    "dt = 0.1          # 타임 스텝 [초]\n",
    "T = 40           # 전체 시뮬레이션 시간 [초]\n",
    "N_steps = int(T / dt)\n",
    "N_pn = 4          # PN 비례 게인\n",
    "\n",
    "####DRAG\n",
    "import random\n",
    "\n",
    "r1 = random.random()\n",
    "r2 = random.random() \n",
    "\n",
    "v1 = random.random()\n",
    "v2 = random.random()\n",
    "\n",
    "v1_norm = v1/(v1**2 + v2**2)**0.5\n",
    "v2_norm = v2/(v1**2 + v2**2)**0.5\n",
    "\n",
    "# 초기 위치 및 속도\n",
    "target_pos = np.array([ 10.0, 0.0])\n",
    "target_vel = np.array([ -10*v1_norm , -10*v2_norm ])  # 목표 속도\n",
    "missile_pos = np.array([-300.0, -300.0])\n",
    "missile_speed = 20.0  # 미사일 속도 (2배 빠름)\n",
    "\n",
    "# 기록 저장\n",
    "target_traj = []\n",
    "missile_traj = []"
   ]
  },
  {
   "cell_type": "code",
   "execution_count": 141,
   "id": "3017c8e3",
   "metadata": {},
   "outputs": [],
   "source": [
    "\n",
    "# 초기 LOS angle\n",
    "def los_angle(missile, target):\n",
    "    vec = target - missile\n",
    "    return np.arctan2(vec[1], vec[0])\n",
    "\n",
    "prev_lambda = los_angle(missile_pos, target_pos)\n"
   ]
  },
  {
   "cell_type": "code",
   "execution_count": 142,
   "id": "3865edfe",
   "metadata": {},
   "outputs": [
    {
     "name": "stdout",
     "output_type": "stream",
     "text": [
      "타격 성공! Time: 15.90 s\n"
     ]
    }
   ],
   "source": [
    "\n",
    "# 시뮬레이션 루프\n",
    "for step in range(N_steps):\n",
    "    time = step * dt\n",
    "\n",
    "    # 목표 랜덤 움직임 (랜덤 가속, 부드러운)\n",
    "    acc_noise = np.random.uniform(-2, 2, size=2)\n",
    "    target_vel += acc_noise * dt\n",
    "    target_pos += target_vel * dt\n",
    "\n",
    "    # LOS angle & 변화율 계산\n",
    "    lambda_now = los_angle(missile_pos, target_pos)\n",
    "    lambda_dot = (lambda_now - prev_lambda) / dt\n",
    "    prev_lambda = lambda_now\n",
    "\n",
    "    # 폐쇄 속도\n",
    "    rel_vel = target_vel - missile_speed * np.array([\n",
    "        np.cos(lambda_now), np.sin(lambda_now)\n",
    "    ])\n",
    "    closing_vel = -np.dot(rel_vel, (target_pos - missile_pos) / np.linalg.norm(target_pos - missile_pos))\n",
    "\n",
    "    # PN 가속 방향\n",
    "    accel_mag = N_pn * closing_vel * lambda_dot\n",
    "    accel_dir = np.array([-np.sin(lambda_now), np.cos(lambda_now)])  # 수직 방향\n",
    "    missile_accel = accel_mag * accel_dir\n",
    "\n",
    "    # 미사일 속도 업데이트 (단위 벡터 방향 고정, 속도 일정)\n",
    "    missile_vel = missile_speed * np.array([\n",
    "        np.cos(lambda_now), np.sin(lambda_now)\n",
    "    ])\n",
    "    missile_pos += missile_vel * dt\n",
    "\n",
    "    # 저장\n",
    "    target_traj.append(target_pos.copy())\n",
    "    missile_traj.append(missile_pos.copy())\n",
    "\n",
    "    # 요격 여부 검사 (근접)\n",
    "    if np.linalg.norm(missile_pos - target_pos) < 5:\n",
    "        print(f\"타격 성공! Time: {time:.2f} s\")\n",
    "        break\n"
   ]
  },
  {
   "cell_type": "code",
   "execution_count": 143,
   "id": "6cfa6440",
   "metadata": {},
   "outputs": [],
   "source": [
    "from matplotlib.animation import FFMpegWriter\n",
    "\n",
    "writer = FFMpegWriter(fps=20, metadata=dict(artist='Me'), bitrate=1800)"
   ]
  },
  {
   "cell_type": "code",
   "execution_count": 144,
   "id": "33a6ca2d",
   "metadata": {},
   "outputs": [
    {
     "name": "stdout",
     "output_type": "stream",
     "text": [
      "✅ 저장 성공: missile_simulation.mp4\n"
     ]
    }
   ],
   "source": [
    "# trajectory를 numpy 배열로 변환 (매우 중요!!)\n",
    "target_traj = np.array(target_traj)\n",
    "missile_traj = np.array(missile_traj)\n",
    "\n",
    "N = min(len(target_traj), len(missile_traj))\n",
    "\n",
    "fig, ax = plt.subplots()\n",
    "ax.set_xlim(-300, 300)\n",
    "ax.set_ylim(-300, 300)\n",
    "ax.set_aspect('equal')\n",
    "\n",
    "target_dot, = ax.plot([], [], 'ro', label='Target')\n",
    "missile_dot, = ax.plot([], [], 'bo', label='Missile')\n",
    "traj_line1, = ax.plot([], [], 'r--', linewidth=1)\n",
    "traj_line2, = ax.plot([], [], 'b--', linewidth=1)\n",
    "ax.legend()\n",
    "\n",
    "def update(frame):\n",
    "    if frame >= N:\n",
    "        frame = N - 1\n",
    "    \n",
    "    x1, y1 = target_traj[frame]\n",
    "    x2, y2 = missile_traj[frame]\n",
    "\n",
    "    target_dot.set_data([x1], [y1])\n",
    "    missile_dot.set_data([x2], [y2])\n",
    "    traj_line1.set_data(target_traj[:frame+1, 0], target_traj[:frame+1, 1])\n",
    "    traj_line2.set_data(missile_traj[:frame+1, 0], missile_traj[:frame+1, 1])\n",
    "    \n",
    "    return target_dot, missile_dot, traj_line1, traj_line2\n",
    "\n",
    "from matplotlib.animation import FuncAnimation, FFMpegWriter\n",
    "\n",
    "ani = FuncAnimation(fig, update, frames=N, interval=50, repeat=False)\n",
    "\n",
    "try:\n",
    "    writer = FFMpegWriter(fps=20, metadata=dict(artist='Me'), bitrate=1800)\n",
    "    ani.save(\"missile_simulation.mp4\", writer=writer)\n",
    "    print(\"✅ 저장 성공: missile_simulation.mp4\")\n",
    "except Exception as e:\n",
    "    print(\"🚨 저장 실패:\", e)\n",
    "\n",
    "plt.close(fig)\n"
   ]
  }
 ],
 "metadata": {
  "kernelspec": {
   "display_name": "PH400",
   "language": "python",
   "name": "python3"
  },
  "language_info": {
   "codemirror_mode": {
    "name": "ipython",
    "version": 3
   },
   "file_extension": ".py",
   "mimetype": "text/x-python",
   "name": "python",
   "nbconvert_exporter": "python",
   "pygments_lexer": "ipython3",
   "version": "3.10.16"
  }
 },
 "nbformat": 4,
 "nbformat_minor": 5
}
